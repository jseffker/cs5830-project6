{
 "cells": [
  {
   "cell_type": "code",
   "execution_count": null,
   "metadata": {},
   "outputs": [],
   "source": [
    "# imports\n",
    "import pandas as pd\n",
    "import matplotlib.pyplot as plt\n",
    "from sklearn.linear_model import LinearRegression\n",
    "\n",
    "# this allows plots to appear directly in the notebook\n",
    "%matplotlib inline\n",
    "\n",
    "import seaborn as sns"
   ]
  },
  {
   "cell_type": "code",
   "execution_count": null,
   "metadata": {},
   "outputs": [],
   "source": [
    "# read data into a DataFrame\n",
    "data = pd.read_csv('./data/RRCA_baseflow.csv')\n",
    "\n",
    "# doing that transformation he talked about\n",
    "data[\"Date\"] = data[\"Date\"] - 693963\n",
    "\n",
    "data.head()"
   ]
  },
  {
   "cell_type": "code",
   "execution_count": null,
   "metadata": {},
   "outputs": [],
   "source": [
    "def showScat(col):\n",
    "    # create X and y\n",
    "    X = data[[col]]\n",
    "    y = data.Observed\n",
    "\n",
    "    # follow the usual sklearn pattern: import, instantiate, fit\n",
    "    lm = LinearRegression()\n",
    "    lm.fit(X, y)\n",
    "\n",
    "    # print intercept and coefficients\n",
    "    print(\"Intercept: \", lm.intercept_)\n",
    "    print(\"Coefficient: \", lm.coef_)\n",
    "\n",
    "    sns.scatterplot(data=data, x=data[col], y=y)\n",
    "\n",
    "def showLinReg(featured_cols):\n",
    "    # create X and y\n",
    "    feature_cols = ['Precipitation']\n",
    "    X = data[feature_cols]\n",
    "    y = data.Observed\n",
    "\n",
    "    # follow the usual sklearn pattern: import, instantiate, fit\n",
    "    lm = LinearRegression()\n",
    "    lm.fit(X, y)\n",
    "\n",
    "    # print intercept and coefficients\n",
    "    print(lm.intercept_)\n",
    "    print(lm.coef_)\n"
   ]
  },
  {
   "cell_type": "code",
   "execution_count": null,
   "metadata": {},
   "outputs": [],
   "source": [
    "showScat('Precipitation')"
   ]
  },
  {
   "cell_type": "code",
   "execution_count": null,
   "metadata": {},
   "outputs": [],
   "source": [
    "showScat('Evapotranspiration')"
   ]
  },
  {
   "cell_type": "code",
   "execution_count": null,
   "metadata": {},
   "outputs": [],
   "source": [
    "showScat('Irrigation_pumping')"
   ]
  },
  {
   "cell_type": "code",
   "execution_count": null,
   "metadata": {},
   "outputs": [],
   "source": [
    "# slice first\n",
    "sliced_data = data.head(70)\n",
    "\n",
    "# create X and y\n",
    "X = sliced_data[['Date']]\n",
    "y = sliced_data.Observed\n",
    "\n",
    "# follow the usual sklearn pattern: import, instantiate, fit\n",
    "lm = LinearRegression()\n",
    "lm.fit(X, y)\n",
    "\n",
    "# print intercept and coefficients\n",
    "print(\"Intercept: \", lm.intercept_)\n",
    "print(\"Coefficient: \", lm.coef_)\n",
    "\n",
    "sns.scatterplot(data=sliced_data, x=sliced_data['Date'], y=y)"
   ]
  }
 ],
 "metadata": {
  "kernelspec": {
   "display_name": "Python 3",
   "language": "python",
   "name": "python3"
  },
  "language_info": {
   "codemirror_mode": {
    "name": "ipython",
    "version": 3
   },
   "file_extension": ".py",
   "mimetype": "text/x-python",
   "name": "python",
   "nbconvert_exporter": "python",
   "pygments_lexer": "ipython3",
   "version": "3.11.3"
  }
 },
 "nbformat": 4,
 "nbformat_minor": 2
}
